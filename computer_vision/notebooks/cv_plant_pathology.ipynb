{
 "cells": [
  {
   "cell_type": "markdown",
   "metadata": {},
   "source": [
    "Today we are going to do the first part of the task of multilabel classification on apple tree leaves disease classification. It is going to be a Proof of Concept part in which we perform a multiclass classification instead in order to show that the data we have makes it possible to distinguish between different kinds of diseases.\n",
    "\n",
    "Dataset URL: https://www.kaggle.com/competitions/plant-pathology-2021-fgvc8/overview"
   ]
  },
  {
   "cell_type": "markdown",
   "metadata": {},
   "source": [
    "0. Read the dataset description to familiarize yourself with the problem."
   ]
  },
  {
   "cell_type": "markdown",
   "metadata": {},
   "source": [
    "1. Load the csv file and analyze the dataset.\n",
    "Use pandas to load the dataset and analyze class distribution."
   ]
  },
  {
   "cell_type": "markdown",
   "metadata": {},
   "source": [
    "2. Determine which labels are going to be used - create a list of one-class labels."
   ]
  },
  {
   "cell_type": "markdown",
   "metadata": {},
   "source": [
    "3. For each of the classes create a grid with x images and vizualize it."
   ]
  },
  {
   "cell_type": "markdown",
   "metadata": {},
   "source": [
    "4. Analyze image size distribution"
   ]
  },
  {
   "cell_type": "markdown",
   "metadata": {},
   "source": [
    "5. Create a tensorflow training and validation datasets of image paths and encoded labels. Write a function to read a particular sample to a tensorflow Tensor from a path string.\n",
    "\n",
    "Questions:\n",
    "What is going to be the appropriate image size for the training?\n",
    "How are you going to resize the images? How can it affect the training outcomes?"
   ]
  },
  {
   "cell_type": "markdown",
   "metadata": {},
   "source": [
    "6. Create a simple convolutional neural network.\n",
    "The network should end with a dense layer with number of nodes determined by the number of one-class labels.\n",
    "\n",
    "Questions:\n",
    "What should be the loss function?\n",
    "What metric should be used to track progress?\n",
    "Should the model return logits or pseudo-probabilities?"
   ]
  },
  {
   "cell_type": "markdown",
   "metadata": {},
   "source": [
    "7. Create a tensorboard callback so that we can track progress with logs."
   ]
  },
  {
   "cell_type": "markdown",
   "metadata": {},
   "source": [
    "8. Train the model for 100 epochs and see the trend.\n",
    "\n",
    "Questions:\n",
    "What are the problems of the model?\n",
    "What can we change in order to make it make better progress?\n",
    "What kind of information would be useful to make correct decisions?"
   ]
  },
  {
   "cell_type": "markdown",
   "metadata": {},
   "source": [
    "9. Add augmentations. Decide which augmentations can be useful for our case."
   ]
  },
  {
   "cell_type": "markdown",
   "metadata": {},
   "source": [
    "10. Add confusion matrix to tensorboard to track changes in predictions per class."
   ]
  },
  {
   "cell_type": "markdown",
   "metadata": {},
   "source": [
    "11. Train the model again and gather next data point.\n",
    "\n",
    "Questions:\n",
    "What classes does the model have the biggest troubles to classify?\n",
    "What do we know about their representation in the dataset?\n",
    "What techniques can we use to mitigate the issue we have?"
   ]
  },
  {
   "cell_type": "markdown",
   "metadata": {},
   "source": [
    "12. Weigh samples according to class counts and retrain the model. What's the difference in the results?"
   ]
  },
  {
   "cell_type": "markdown",
   "metadata": {},
   "source": [
    "13. Try a different resize method. Use smart resize instead of normal resize.\n",
    "\n",
    "Question:\n",
    "What pros and cons has this method over the previous one?"
   ]
  },
  {
   "cell_type": "markdown",
   "metadata": {},
   "source": [
    "14. Compare performance of our model with a pretrained model.\n",
    "\n",
    "Question:\n",
    "What step do you need to add to preprocessing in the network to make a pretrained model work?"
   ]
  },
  {
   "cell_type": "markdown",
   "metadata": {},
   "source": [
    "15. Add custom normalization based on pixel value distributions for each channel. Write a function to compute mean and std values for each channel and train our custom model with a Normalization layer."
   ]
  },
  {
   "cell_type": "markdown",
   "metadata": {},
   "source": [
    "16. Try various image sizes with custom normalizations."
   ]
  },
  {
   "cell_type": "markdown",
   "metadata": {},
   "source": [
    "17. Visualize predictions for incorrect classes.\n",
    "\n",
    "Questions:\n",
    "What are the most common mistakes?\n",
    "Which parts of our pipeline make it hard to avoid this kind of mistakes?\n",
    "What are the things we can work on to mitigate that issues?"
   ]
  },
  {
   "cell_type": "markdown",
   "metadata": {},
   "source": [
    "18. Generate saliency maps for x samples of correct and incorrect classes.\n",
    "\n",
    "Questions:\n",
    "* Do saliency maps confirm your hypotheses from the previous point?\n",
    "* Can you confirm that the model uses correct parts of the image in order to classify samples of sick leaves?"
   ]
  },
  {
   "cell_type": "markdown",
   "metadata": {},
   "source": [
    "At this point our model should have accuracy around 90% for all classes except for complex. We can prove that it is possible to use Deep Learning based on the samples we have and have an idea of what is the problem. The project can continue to MVP phase where the main issue we found here should be tackled. Do you have an idea why it is the hardest for the model to classify images with complex class?"
   ]
  }
 ],
 "metadata": {
  "interpreter": {
   "hash": "ff2cbf0bdac725244dd52eb4aba1818686a27923fb15f2288e4ed59a5329c0dd"
  },
  "kernelspec": {
   "display_name": "Python 3.9.7 64-bit ('3.9.7')",
   "language": "python",
   "name": "python3"
  },
  "language_info": {
   "name": "python",
   "version": "3.9.7"
  },
  "orig_nbformat": 4
 },
 "nbformat": 4,
 "nbformat_minor": 2
}

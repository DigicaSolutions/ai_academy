{
 "cells": [
  {
   "cell_type": "code",
   "execution_count": null,
   "id": "ce811dc2",
   "metadata": {},
   "outputs": [],
   "source": [
    "import numpy as np\n",
    "import matplotlib.pylab as plt\n",
    "import pandas as pd"
   ]
  },
  {
   "cell_type": "markdown",
   "id": "d3ccb00b",
   "metadata": {},
   "source": [
    "## TASK 1: Load data and check its structure"
   ]
  },
  {
   "cell_type": "markdown",
   "id": "f2c72533",
   "metadata": {},
   "source": [
    "### Dataset content\n",
    "\n",
    "*Whole description of dataset is https://github.com/openradarinitiative/open_radar_datasets*\n",
    "\n",
    "The dataset is a a python dictionary and primarily contains _doppler spectra_, but there is also some other information that might be useful.\n",
    "The \".npy\" file contains a dictionary of _signatures_, each _signature_ corresponds to a full radar-track and contains again contains:\n",
    "\n",
    "| Field name        | Explanation    |\n",
    "| ------------- |:-------------:|\n",
    "| signature  |  Numpy array of the doppler spectra for that track|\n",
    "| ts         |  Timestamp for each spectra|\n",
    "| range      |  Measured range for the detection|\n",
    "| azimuth    |  Measured azimuth for the detectin|\n",
    "| velocity   |  Measured radial velocity|\n",
    "| snr_db     |  Estimated SNR in dB, estimated from a 1D CFAR|\n",
    "| x          |  Kalman-filtered x-position|\n",
    "| y          |  Kalman-filtered x-position|\n",
    "| z          |  Kalman-filtered x-position|\n",
    "| class_name |  Class name string|\n",
    "| radar_parameters |  Dict with the radar parameters|\n",
    "\n",
    "The _radar_parameters_ dict contain sensor and waveform-specific parameters\n",
    "\n",
    "| Field name        | Explanation    |\n",
    "| ------------- |:-------------:|\n",
    "| num_range_bins |  Number of range bins|\n",
    "| num_pulses |  Number of pulses in each frame|\n",
    "| num_antenna_elements |  Number of receiver elements sampled|\n",
    "| fc |  Center frequency|\n",
    "| bw |  Sampled Bandwidth|\n",
    "| prf |  PRF|"
   ]
  },
  {
   "cell_type": "code",
   "execution_count": null,
   "id": "327a056a",
   "metadata": {},
   "outputs": [],
   "source": [
    "path_to_dataset = ''\n",
    "dataset = np.load(path_to_dataset, allow_pickle=True)\n",
    "dataset.shape"
   ]
  },
  {
   "cell_type": "code",
   "execution_count": null,
   "id": "ceb3f645",
   "metadata": {},
   "outputs": [],
   "source": [
    "dataset[0].keys()"
   ]
  },
  {
   "cell_type": "code",
   "execution_count": null,
   "id": "93ba1a6d",
   "metadata": {},
   "outputs": [],
   "source": [
    "dataset[0]['signature']"
   ]
  },
  {
   "cell_type": "code",
   "execution_count": null,
   "id": "72b03ffa",
   "metadata": {},
   "outputs": [],
   "source": [
    "dataset[0]['signature'].shape"
   ]
  },
  {
   "cell_type": "code",
   "execution_count": null,
   "id": "5990dbbb",
   "metadata": {},
   "outputs": [],
   "source": [
    "dataset[0]['ts']"
   ]
  },
  {
   "cell_type": "code",
   "execution_count": null,
   "id": "af03e1e0",
   "metadata": {},
   "outputs": [],
   "source": [
    "dataset[0]['range']"
   ]
  },
  {
   "cell_type": "code",
   "execution_count": null,
   "id": "1f4d823b",
   "metadata": {},
   "outputs": [],
   "source": [
    "dataset[0]['velocity']"
   ]
  },
  {
   "cell_type": "code",
   "execution_count": null,
   "id": "f3c6ddeb",
   "metadata": {},
   "outputs": [],
   "source": [
    "dataset[0]['snr_db']"
   ]
  },
  {
   "cell_type": "code",
   "execution_count": null,
   "id": "e16fb0c8",
   "metadata": {},
   "outputs": [],
   "source": [
    "dataset[0]['azimuth']"
   ]
  },
  {
   "cell_type": "code",
   "execution_count": null,
   "id": "2e08b103",
   "metadata": {},
   "outputs": [],
   "source": [
    "dataset[0]['x'], dataset[0]['y'], dataset[0]['z']"
   ]
  },
  {
   "cell_type": "code",
   "execution_count": null,
   "id": "22fe277b",
   "metadata": {},
   "outputs": [],
   "source": [
    "dataset[0]['radar_parameters'].keys()"
   ]
  },
  {
   "cell_type": "code",
   "execution_count": null,
   "id": "34ba8c2e",
   "metadata": {},
   "outputs": [],
   "source": [
    "dataset[0]['id']"
   ]
  },
  {
   "cell_type": "markdown",
   "id": "0f20ccea",
   "metadata": {},
   "source": [
    "## TASK 2: Check the lables, count how many samples are for ech sample, show examples of signatures of each label\n",
    "\n",
    "Tip: add condition (len(signature['snr_db']) > 500) or (signature['class_name']==\"uav\" and len(signature['snr_db']) > 100)"
   ]
  },
  {
   "cell_type": "code",
   "execution_count": null,
   "id": "8518311a",
   "metadata": {
    "hide_input": true
   },
   "outputs": [],
   "source": [
    "labels = [data['class_name'] for data in dataset]\n",
    "unique_classes = list(set(labels)) #unique classes in dataset\n",
    "unique_classes"
   ]
  },
  {
   "cell_type": "code",
   "execution_count": null,
   "id": "ec378392",
   "metadata": {},
   "outputs": [],
   "source": [
    "for label in list(set(labels)):\n",
    "    print(f'Num of {label} in dataset: {labels.count(label)}')"
   ]
  },
  {
   "cell_type": "code",
   "execution_count": null,
   "id": "21684016",
   "metadata": {},
   "outputs": [],
   "source": [
    "signatures_shape = [data['signature'].shape for data in dataset]\n",
    "first_dim = [sig[0] for sig in signatures_shape]\n",
    "second_dim = [sig[1] for sig in signatures_shape]\n",
    "\n",
    "print(f'Second dimension size: {list(set(second_dim))[0]}')\n",
    "print(f'First dimension size: {min(first_dim)} - {max(first_dim)}')"
   ]
  },
  {
   "cell_type": "code",
   "execution_count": null,
   "id": "8456460b",
   "metadata": {},
   "outputs": [],
   "source": [
    "is_shown = {}\n",
    "for class_name in list(set(labels)):\n",
    "    is_shown[class_name] = False\n",
    "    \n",
    "for signature in dataset:\n",
    "    if (len(signature['snr_db']) > 500) or (signature['class_name']==\"uav\" and len(signature['snr_db']) > 100):\n",
    "        if(not is_shown[signature['class_name']]):\n",
    "            is_shown[signature['class_name']] = True\n",
    "            arr = signature['signature']\n",
    "            arr = 20 * np.log10(np.abs(arr)).transpose()\n",
    "            prf = signature['radar_parameters']['prf']\n",
    "            plt.imshow(arr, cmap='jet', aspect='auto', vmax=np.max(arr) - 20, vmin=np.max(arr) - 70,\n",
    "                          extent=[0, arr.shape[1], -int(prf/2), int(prf / 2)])\n",
    "            plt.title(signature['class_name'])\n",
    "            plt.autoscale()\n",
    "            # plt.colorbar(axdata)\n",
    "            plt.xlabel('Time (seconds) in samples')\n",
    "            plt.ylabel('Doppler frequency shift (Hz)')\n",
    "            plt.show()"
   ]
  },
  {
   "cell_type": "code",
   "execution_count": null,
   "id": "87a0f979",
   "metadata": {},
   "outputs": [],
   "source": [
    "is_shown = {}\n",
    "for class_name in list(set(labels)):\n",
    "    is_shown[class_name] = False\n",
    "    \n",
    "\n",
    "for signature in dataset:\n",
    "    if (len(signature['snr_db']) > 500) or (signature['class_name']==\"uav\" and len(signature['snr_db']) > 100):\n",
    "        if(not is_shown[signature['class_name']]):\n",
    "            is_shown[signature['class_name']] = True\n",
    "            x, y, z = signature['x'],signature['y'],signature['z']\n",
    "            fig = plt.figure()\n",
    "            ax = fig.add_subplot(111, projection='3d')\n",
    "            ax.scatter(x, y,z)\n",
    "            plt.title(signature['class_name'])\n"
   ]
  },
  {
   "cell_type": "code",
   "execution_count": null,
   "id": "d5b4ed07",
   "metadata": {},
   "outputs": [],
   "source": [
    "is_shown = {}\n",
    "for class_name in list(set(labels)):\n",
    "    is_shown[class_name] = False\n",
    "    \n",
    "\n",
    "for signature in dataset:\n",
    "    if (len(signature['snr_db']) > 500) or (signature['class_name']==\"uav\" and len(signature['snr_db']) > 100):\n",
    "        if(not is_shown[signature['class_name']]):\n",
    "            is_shown[signature['class_name']] = True\n",
    "            velocity, range_, azimuth, ts = signature['velocity'],signature['range'],signature['azimuth'],signature['ts']\n",
    "            fig = plt.figure()\n",
    "            plt.title(signature['class_name'])\n",
    "            plt.plot(ts,range_)\n",
    "            plt.ticklabel_format(axis=\"x\", style=\"sci\", scilimits=(0,0))\n",
    "            plt.xlabel('timestamp')\n",
    "            plt.ylabel('Range')\n",
    "            fig = plt.figure()\n",
    "            plt.plot(ts,velocity)\n",
    "            plt.ticklabel_format(axis=\"x\", style=\"sci\", scilimits=(0,0))\n",
    "            plt.xlabel('timestamp')\n",
    "            plt.ylabel(\"Radial Velocity\")\n",
    "            fig = plt.figure()\n",
    "            plt.title(signature['class_name'])\n",
    "            plt.plot(ts,azimuth)\n",
    "            plt.ticklabel_format(axis=\"x\", style=\"sci\", scilimits=(0,0))\n",
    "            plt.xlabel('timestamp')\n",
    "            plt.ylabel(\"Azimuth\")\n",
    "\n",
    "            \n",
    "# What does values below 0 means?"
   ]
  },
  {
   "cell_type": "code",
   "execution_count": null,
   "id": "1160680a",
   "metadata": {},
   "outputs": [],
   "source": []
  },
  {
   "cell_type": "code",
   "execution_count": null,
   "id": "99641820",
   "metadata": {},
   "outputs": [],
   "source": []
  },
  {
   "cell_type": "code",
   "execution_count": null,
   "id": "1ea68876",
   "metadata": {},
   "outputs": [],
   "source": []
  }
 ],
 "metadata": {
  "kernelspec": {
   "display_name": "Python 3 (ipykernel)",
   "language": "python",
   "name": "python3"
  },
  "language_info": {
   "codemirror_mode": {
    "name": "ipython",
    "version": 3
   },
   "file_extension": ".py",
   "mimetype": "text/x-python",
   "name": "python",
   "nbconvert_exporter": "python",
   "pygments_lexer": "ipython3",
   "version": "3.10.4"
  }
 },
 "nbformat": 4,
 "nbformat_minor": 5
}

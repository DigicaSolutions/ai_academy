{
 "cells": [
  {
   "cell_type": "markdown",
   "id": "12700880",
   "metadata": {},
   "source": [
    "## Load the data"
   ]
  },
  {
   "cell_type": "code",
   "execution_count": null,
   "id": "6f38537e",
   "metadata": {},
   "outputs": [],
   "source": [
    "import numpy as np\n",
    "import matplotlib.pylab as plt\n",
    "import pandas as pd\n",
    "\n",
    "from sklearn.model_selection import train_test_split\n",
    "from xgboost import XGBClassifier\n",
    "from sklearn.preprocessing import LabelEncoder\n",
    "from sklearn.metrics import classification_report, confusion_matrix, ConfusionMatrixDisplay\n",
    "import shap"
   ]
  },
  {
   "cell_type": "code",
   "execution_count": null,
   "id": "0089adb7",
   "metadata": {},
   "outputs": [],
   "source": [
    "path_to_dataset = ''\n",
    "dataset = np.load(path_to_dataset, allow_pickle=True)"
   ]
  },
  {
   "cell_type": "code",
   "execution_count": null,
   "id": "483d6d49",
   "metadata": {},
   "outputs": [],
   "source": [
    "dataset[0].keys()"
   ]
  },
  {
   "cell_type": "code",
   "execution_count": null,
   "id": "67ac4dcf",
   "metadata": {},
   "outputs": [],
   "source": [
    "dataset[0]['radar_parameters']"
   ]
  },
  {
   "cell_type": "code",
   "execution_count": null,
   "id": "64293779",
   "metadata": {},
   "outputs": [],
   "source": [
    "labels = [data['class_name'] for data in dataset]\n",
    "unique_classes = list(set(labels)) #unique classes in dataset\n",
    "unique_classes"
   ]
  },
  {
   "cell_type": "code",
   "execution_count": null,
   "id": "742c994e",
   "metadata": {},
   "outputs": [],
   "source": [
    "for label in list(set(labels)):\n",
    "    print(f'Num of {label} in dataset: {labels.count(label)}')"
   ]
  },
  {
   "cell_type": "markdown",
   "id": "a87c1eae",
   "metadata": {},
   "source": [
    "## Preapare radar parameters"
   ]
  },
  {
   "cell_type": "code",
   "execution_count": null,
   "id": "df2f2c03",
   "metadata": {},
   "outputs": [],
   "source": [
    "radar_parameters = [data['radar_parameters'] for data in dataset]"
   ]
  },
  {
   "cell_type": "code",
   "execution_count": null,
   "id": "ed4c5f25",
   "metadata": {},
   "outputs": [],
   "source": [
    "for i, data in enumerate(dataset):\n",
    "    radar_parameters[i]['class_name']=data['class_name']"
   ]
  },
  {
   "cell_type": "code",
   "execution_count": null,
   "id": "98887f52",
   "metadata": {},
   "outputs": [],
   "source": [
    "params = ['azimuth', 'velocity', 'snr_db']\n",
    "\n",
    "for i, data in enumerate(dataset):\n",
    "    for param in params:       \n",
    "        radar_parameters[i][f'{param}_mean'] = data[param].mean()\n",
    "        radar_parameters[i][f'{param}_min'] = data[param].min()\n",
    "        radar_parameters[i][f'{param}_max'] = data[param].max()\n",
    "        radar_parameters[i][f'{param}_std'] = data[param].std()"
   ]
  },
  {
   "cell_type": "code",
   "execution_count": null,
   "id": "2ed11141",
   "metadata": {},
   "outputs": [],
   "source": [
    "tracker_data = pd.DataFrame(radar_parameters)"
   ]
  },
  {
   "cell_type": "code",
   "execution_count": null,
   "id": "1e064470",
   "metadata": {},
   "outputs": [],
   "source": [
    "tracker_data"
   ]
  },
  {
   "cell_type": "markdown",
   "id": "fca8158f",
   "metadata": {},
   "source": [
    "## Divde dataset to train and test set"
   ]
  },
  {
   "cell_type": "code",
   "execution_count": null,
   "id": "153120fb",
   "metadata": {},
   "outputs": [],
   "source": [
    "X_train, X_test, y_train, y_test = train_test_split(\n",
    "    tracker_data.loc[:, tracker_data.columns != 'class_name'], tracker_data.class_name, test_size=0.33, random_state=42)"
   ]
  },
  {
   "cell_type": "code",
   "execution_count": null,
   "id": "130c8a0f",
   "metadata": {},
   "outputs": [],
   "source": [
    "X_train.shape, X_test.shape"
   ]
  },
  {
   "cell_type": "code",
   "execution_count": null,
   "id": "31e2323c",
   "metadata": {},
   "outputs": [],
   "source": [
    "encoder_labels = LabelEncoder()\n",
    "encoder_labels = encoder_labels.fit(['person', 'bicycle', 'uav', 'vehicle'])\n",
    "print(\"encoded labels\")\n",
    "print(\n",
    "        f\"Class 'person' is {encoder_labels.transform(['person'])[0]} and \"\n",
    "        f\"class 'bicycle' is {encoder_labels.transform(['bicycle'])[0]} and \"\n",
    "        f\"Class 'uav' is {encoder_labels.transform(['uav'])[0]} and \"\n",
    "        f\"class 'vehicle' is {encoder_labels.transform(['vehicle'])[0]}\")\n",
    "y_train = encoder_labels.transform(y_train)\n",
    "y_test = encoder_labels.transform(y_test)"
   ]
  },
  {
   "cell_type": "markdown",
   "id": "175d1666",
   "metadata": {},
   "source": [
    "## Train simple model eg. XGBoost"
   ]
  },
  {
   "cell_type": "code",
   "execution_count": null,
   "id": "e6059c08",
   "metadata": {},
   "outputs": [],
   "source": [
    "model = XGBClassifier(use_label_encoder=False)\n",
    "model.fit(X_train, y_train, eval_metric='mlogloss')"
   ]
  },
  {
   "cell_type": "code",
   "execution_count": null,
   "id": "8727268c",
   "metadata": {},
   "outputs": [],
   "source": [
    "predicted = model.predict(X_test)\n",
    "results_df = pd.DataFrame(zip(predicted, y_test), columns=['predicted', 'true'])\n",
    "report_pp = classification_report(results_df.true, results_df.predicted, target_names=['person', 'bicycle', 'uav', 'vehicle'])\n",
    "print(report_pp)\n",
    "\n",
    "cm = confusion_matrix(results_df.true, results_df.predicted, labels=model.classes_)\n",
    "cm_display = ConfusionMatrixDisplay(confusion_matrix=cm, display_labels=['person', 'bicycle', 'uav', 'vehicle'])\n",
    "cm_display.plot()"
   ]
  },
  {
   "cell_type": "code",
   "execution_count": null,
   "id": "96f0a16d",
   "metadata": {},
   "outputs": [],
   "source": [
    "features_importances = model.feature_importances_\n",
    "\n",
    "for i in np.argsort(features_importances)[::-1]:\n",
    "    print(f'{X_train.columns[i]} : {features_importances[i]}')"
   ]
  },
  {
   "cell_type": "code",
   "execution_count": null,
   "id": "74536500",
   "metadata": {},
   "outputs": [],
   "source": [
    "explainer = shap.TreeExplainer(model)\n",
    "shap_values = explainer.shap_values(X_test)\n",
    "shap.summary_plot(shap_values, X_test, show=True,  class_names=['person', 'bicycle', 'uav', 'vehicle'])"
   ]
  },
  {
   "cell_type": "code",
   "execution_count": null,
   "id": "b47923f2",
   "metadata": {},
   "outputs": [],
   "source": []
  }
 ],
 "metadata": {
  "kernelspec": {
   "display_name": "Python 3 (ipykernel)",
   "language": "python",
   "name": "python3"
  },
  "language_info": {
   "codemirror_mode": {
    "name": "ipython",
    "version": 3
   },
   "file_extension": ".py",
   "mimetype": "text/x-python",
   "name": "python",
   "nbconvert_exporter": "python",
   "pygments_lexer": "ipython3",
   "version": "3.10.4"
  }
 },
 "nbformat": 4,
 "nbformat_minor": 5
}

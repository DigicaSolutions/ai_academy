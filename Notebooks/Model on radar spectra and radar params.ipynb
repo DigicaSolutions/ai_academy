{
 "cells": [
  {
   "cell_type": "markdown",
   "id": "12700880",
   "metadata": {},
   "source": [
    "## Load the data"
   ]
  },
  {
   "cell_type": "code",
   "execution_count": null,
   "id": "6f38537e",
   "metadata": {},
   "outputs": [],
   "source": [
    "import numpy as np\n",
    "import matplotlib.pylab as plt\n",
    "import pandas as pd\n",
    "\n",
    "from sklearn.model_selection import train_test_split\n",
    "from sklearn.preprocessing import LabelEncoder, OneHotEncoder\n",
    "from sklearn.metrics import classification_report, confusion_matrix, ConfusionMatrixDisplay\n",
    "\n",
    "from keras.models import Sequential\n",
    "from keras import Model\n",
    "from keras.layers import Dense, Input, Conv2D, Flatten, MaxPooling2D, UpSampling2D\n",
    "from keras.regularizers import l2\n",
    "\n",
    "from xgboost import XGBClassifier\n",
    "\n",
    "import shap"
   ]
  },
  {
   "cell_type": "code",
   "execution_count": null,
   "id": "0089adb7",
   "metadata": {},
   "outputs": [],
   "source": [
    "path_to_dataset = ''\n",
    "dataset = np.load(path_to_dataset, allow_pickle=True)"
   ]
  },
  {
   "cell_type": "code",
   "execution_count": null,
   "id": "64293779",
   "metadata": {},
   "outputs": [],
   "source": [
    "labels = [data['class_name'] for data in dataset]\n",
    "unique_classes = list(set(labels)) #unique classes in dataset\n",
    "unique_classes"
   ]
  },
  {
   "cell_type": "code",
   "execution_count": null,
   "id": "742c994e",
   "metadata": {},
   "outputs": [],
   "source": [
    "for label in list(set(labels)):\n",
    "    print(f'Num of {label} in dataset: {labels.count(label)}')"
   ]
  },
  {
   "cell_type": "markdown",
   "id": "a87c1eae",
   "metadata": {},
   "source": [
    "## Preapare radar spectra"
   ]
  },
  {
   "cell_type": "code",
   "execution_count": null,
   "id": "df2f2c03",
   "metadata": {},
   "outputs": [],
   "source": [
    "signatures_shape = [data['signature'].shape for data in dataset]\n",
    "first_dim = [sig[0] for sig in signatures_shape]\n",
    "second_dim = [sig[1] for sig in signatures_shape]\n",
    "\n",
    "print(f'Second dimension size: {list(set(second_dim))[0]}')\n",
    "print(f'First dimension size: {min(first_dim)} - {max(first_dim)}')"
   ]
  },
  {
   "cell_type": "code",
   "execution_count": null,
   "id": "ed4c5f25",
   "metadata": {},
   "outputs": [],
   "source": [
    "\n",
    "np.median(first_dim)"
   ]
  },
  {
   "cell_type": "code",
   "execution_count": null,
   "id": "98887f52",
   "metadata": {},
   "outputs": [],
   "source": [
    "signatures = []\n",
    "labels_for_training = []\n",
    "ids = []\n",
    "\n",
    "for i, data in enumerate(dataset):\n",
    "    if (data['signature'].shape[0] >= 252):\n",
    "        if (len(data['snr_db']) > 500) or (data['class_name']==\"uav\" and len(data['snr_db']) > 100):\n",
    "            signatures.append(20 * np.log10(np.abs(data['signature'])[:252,470:546]).transpose().reshape(-1,252,1))\n",
    "            labels_for_training.append(data['class_name'])\n",
    "            \n",
    "            ids.append(i)"
   ]
  },
  {
   "cell_type": "code",
   "execution_count": null,
   "id": "2ed11141",
   "metadata": {},
   "outputs": [],
   "source": [
    "signatures = np.array(signatures)"
   ]
  },
  {
   "cell_type": "code",
   "execution_count": null,
   "id": "1e064470",
   "metadata": {},
   "outputs": [],
   "source": [
    "plt.imshow(signatures[-1])"
   ]
  },
  {
   "cell_type": "code",
   "execution_count": null,
   "id": "1ba585d7",
   "metadata": {},
   "outputs": [],
   "source": [
    "signatures[-1].shape"
   ]
  },
  {
   "cell_type": "code",
   "execution_count": null,
   "id": "c2ab65c5",
   "metadata": {},
   "outputs": [],
   "source": [
    "params = ['azimuth', 'velocity', 'snr_db']\n",
    "\n",
    "parameters = []\n",
    "\n",
    "for i, data in enumerate(dataset):\n",
    "    if i in ids:\n",
    "        data_params = data['radar_parameters']\n",
    "        for param in params:       \n",
    "            data_params[f'{param}_mean'] = data[param].mean()\n",
    "            data_params[f'{param}_min'] = data[param].min()\n",
    "            data_params[f'{param}_max'] = data[param].max()\n",
    "            data_params[f'{param}_std'] = data[param].std()\n",
    "        parameters.append(data_params)"
   ]
  },
  {
   "cell_type": "code",
   "execution_count": null,
   "id": "11590aae",
   "metadata": {},
   "outputs": [],
   "source": [
    "merged_data = pd.concat([pd.DataFrame(parameters),pd.DataFrame(signatures.reshape(-1, 76*252))], axis=1, ignore_index=True)"
   ]
  },
  {
   "cell_type": "markdown",
   "id": "fca8158f",
   "metadata": {},
   "source": [
    "## Divde dataset to train and test set"
   ]
  },
  {
   "cell_type": "code",
   "execution_count": null,
   "id": "153120fb",
   "metadata": {},
   "outputs": [],
   "source": [
    "X_train, X_test, y_train, y_test = train_test_split(\n",
    "    merged_data, labels_for_training, test_size=0.3, random_state=42)\n",
    "X_val, X_test, y_val, y_test = train_test_split(\n",
    "    X_test, y_test, test_size=0.5, random_state=42)"
   ]
  },
  {
   "cell_type": "code",
   "execution_count": null,
   "id": "130c8a0f",
   "metadata": {},
   "outputs": [],
   "source": [
    "X_train.shape, X_test.shape"
   ]
  },
  {
   "cell_type": "code",
   "execution_count": null,
   "id": "bc97df71",
   "metadata": {},
   "outputs": [],
   "source": [
    "encoder_labels = LabelEncoder()\n",
    "encoder_labels = encoder_labels.fit(['person', 'bicycle', 'uav', 'vehicle'])\n",
    "print(\"encoded labels\")\n",
    "print(\n",
    "        f\"Class 'person' is {encoder_labels.transform(['person'])[0]} and \"\n",
    "        f\"class 'bicycle' is {encoder_labels.transform(['bicycle'])[0]} and \"\n",
    "        f\"Class 'uav' is {encoder_labels.transform(['uav'])[0]} and \"\n",
    "        f\"class 'vehicle' is {encoder_labels.transform(['vehicle'])[0]}\")\n",
    "labels_ = encoder_labels.transform(labels_for_training)\n",
    "y_train_ = encoder_labels.transform(y_train)\n",
    "y_test_ = encoder_labels.transform(y_test)\n",
    "y_val_ = encoder_labels.transform(y_val)"
   ]
  },
  {
   "cell_type": "code",
   "execution_count": null,
   "id": "31e2323c",
   "metadata": {},
   "outputs": [],
   "source": [
    "encoder_labels = OneHotEncoder(handle_unknown='ignore')\n",
    "encoder_labels = encoder_labels.fit(np.array(labels_).reshape(-1,1))\n",
    "y_train = encoder_labels.transform(np.array(y_train_).reshape(-1,1))\n",
    "y_test = encoder_labels.transform(np.array(y_test_).reshape(-1,1))\n",
    "y_val = encoder_labels.transform(np.array(y_val_).reshape(-1,1))"
   ]
  },
  {
   "cell_type": "code",
   "execution_count": null,
   "id": "e0bc26e2",
   "metadata": {},
   "outputs": [],
   "source": [
    "X_test.shape"
   ]
  },
  {
   "cell_type": "code",
   "execution_count": null,
   "id": "a3fbfe23",
   "metadata": {},
   "outputs": [],
   "source": [
    "\n",
    "y_train = y_train.toarray()\n",
    "y_test = y_test.toarray()\n",
    "y_val = y_val.toarray()"
   ]
  },
  {
   "cell_type": "markdown",
   "id": "175d1666",
   "metadata": {},
   "source": [
    "## Train simple dense autoencoder"
   ]
  },
  {
   "cell_type": "code",
   "execution_count": null,
   "id": "13f97998",
   "metadata": {},
   "outputs": [],
   "source": [
    "\n",
    "latent_dim = 32\n",
    "activators = 'relu'\n",
    "\n",
    "input_img = Input(shape=(76 * 252))\n",
    "encoded_dense = Dense(units=1024, activation=activators)(input_img)\n",
    "encoded_dense = Dense(units=256, activation=activators)(encoded_dense)\n",
    "encoded_dense = Dense(units=64, activation=activators)(encoded_dense)\n",
    "encoded_dense = Dense(units=latent_dim, activation='sigmoid')(encoded_dense)\n",
    "decoded_dense = Dense(units=64, activation=activators)(encoded_dense)\n",
    "decoded_dense = Dense(units=256, activation=activators)(decoded_dense)\n",
    "decoded_dense = Dense(units=1024, activation=activators)(decoded_dense)\n",
    "decoded_dense = Dense(units=76 * 252, activation='sigmoid')(decoded_dense)\n",
    "\n",
    "autoencoder_dense = Model(input_img, decoded_dense)\n",
    "encoder_dense = Model(input_img, encoded_dense)\n"
   ]
  },
  {
   "cell_type": "code",
   "execution_count": null,
   "id": "a8188b74",
   "metadata": {},
   "outputs": [],
   "source": [
    "autoencoder_dense.compile(optimizer='adam', loss='mean_squared_error', metrics=['mean_squared_error'])\n",
    "train_spectra_dense = np.array(X_train[X_train.columns[20:]]).reshape(-1,76 * 252)\n",
    "test_spectra_dense = np.array(X_test[X_test.columns[20:]]).reshape(-1,76 * 252)\n",
    "\n",
    "autoencoder_dense.fit(train_spectra_dense, train_spectra_dense,\n",
    "                    epochs=20,\n",
    "                    batch_size=128,\n",
    "                    shuffle=True,\n",
    "                    validation_data=(test_spectra_dense, test_spectra_dense))"
   ]
  },
  {
   "cell_type": "code",
   "execution_count": null,
   "id": "0ecfdaad",
   "metadata": {},
   "outputs": [],
   "source": [
    "test_latent_dense = encoder_dense.predict(test_spectra_dense)\n",
    "train_latent_dense = encoder_dense.predict(train_spectra_dense)"
   ]
  },
  {
   "cell_type": "code",
   "execution_count": null,
   "id": "9771db99",
   "metadata": {},
   "outputs": [],
   "source": [
    "merged_train_data_dense = pd.np.column_stack([X_train[X_train.columns[:20]],pd.DataFrame(train_latent_dense.reshape(-1, 32))])\n",
    "merged_test_data_dense = pd.np.column_stack([X_test[X_test.columns[:20]],pd.DataFrame(test_latent_dense.reshape(-1, 32))])"
   ]
  },
  {
   "cell_type": "code",
   "execution_count": null,
   "id": "0f02247a",
   "metadata": {},
   "outputs": [],
   "source": [
    "model = XGBClassifier(use_label_encoder=False)\n",
    "model.fit(merged_train_data_dense, y_train_, eval_metric='mlogloss')"
   ]
  },
  {
   "cell_type": "code",
   "execution_count": null,
   "id": "855168af",
   "metadata": {},
   "outputs": [],
   "source": [
    "predicted = model.predict(merged_test_data_dense)\n",
    "results_df = pd.DataFrame(zip(predicted, y_test), columns=['predicted', 'true'])\n",
    "report_pp = classification_report(y_test_, predicted, target_names=['person', 'bicycle', 'uav', 'vehicle'])\n",
    "print(report_pp)\n",
    "\n",
    "cm = confusion_matrix(y_test_, predicted, labels=[0,1,2,3])\n",
    "cm_display = ConfusionMatrixDisplay(confusion_matrix=cm, display_labels=['person', 'bicycle', 'uav', 'vehicle'])\n",
    "cm_display.plot()"
   ]
  },
  {
   "cell_type": "code",
   "execution_count": null,
   "id": "5017ba8a",
   "metadata": {},
   "outputs": [],
   "source": [
    "explainer = shap.TreeExplainer(model)\n",
    "shap_values = explainer.shap_values(merged_test_data_dense)\n",
    "shap.summary_plot(shap_values, merged_test_data_dense, show=True)"
   ]
  },
  {
   "cell_type": "markdown",
   "id": "9a84e0be",
   "metadata": {},
   "source": [
    "## CNN autoencoder"
   ]
  },
  {
   "cell_type": "code",
   "execution_count": null,
   "id": "62f94b2b",
   "metadata": {},
   "outputs": [],
   "source": [
    "input_img = Input(shape=(76, 252, 1))\n",
    "\n",
    "x = Conv2D(16, (3, 3), activation='relu', padding='same')(input_img)\n",
    "x = MaxPooling2D((2, 2), padding='same')(x)\n",
    "x = Conv2D(8, (3, 3), activation='relu', padding='same')(x)\n",
    "x = MaxPooling2D((2, 2), padding='same')(x)\n",
    "x = Conv2D(8, (3, 3), activation='relu', padding='same')(x)\n",
    "encoded = MaxPooling2D((2, 2), padding='same')(x)\n",
    "\n",
    "# at this point the representation is (4, 4, 8) i.e. 128-dimensional\n",
    "\n",
    "x = Conv2D(8, (3, 3), activation='relu', padding='same')(encoded)\n",
    "x = UpSampling2D((2, 2))(x)\n",
    "x = Conv2D(8, (3, 3), activation='relu', padding='same')(x)\n",
    "x = UpSampling2D((2, 2))(x)\n",
    "x = Conv2D(16, (3, 3), activation='relu')(x)\n",
    "x = UpSampling2D((2, 2))(x)\n",
    "decoded = Conv2D(1, (3, 3), activation='sigmoid', padding='same')(x)\n",
    "\n",
    "autoencoder = Model(input_img, decoded)\n",
    "encoder = Model(input_img, encoded)"
   ]
  },
  {
   "cell_type": "code",
   "execution_count": null,
   "id": "a1a8d906",
   "metadata": {},
   "outputs": [],
   "source": [
    "autoencoder.compile(optimizer='adam', loss='mean_squared_error', metrics=['mean_squared_error'])\n",
    "train_spectra = np.array(X_train[X_train.columns[20:]]).reshape(-1,76,252)\n",
    "test_spectra = np.array(X_test[X_test.columns[20:]]).reshape(-1,76,252)\n",
    "\n",
    "autoencoder.fit(train_spectra, train_spectra,\n",
    "                    epochs=20,\n",
    "                    batch_size=128,\n",
    "                    shuffle=True,\n",
    "                    validation_data=(test_spectra, test_spectra))"
   ]
  },
  {
   "cell_type": "code",
   "execution_count": null,
   "id": "00676827",
   "metadata": {},
   "outputs": [],
   "source": [
    "test_latent = encoder.predict(test_spectra)\n",
    "train_latent = encoder.predict(train_spectra)"
   ]
  },
  {
   "cell_type": "code",
   "execution_count": null,
   "id": "5c55cc57",
   "metadata": {},
   "outputs": [],
   "source": [
    "test_latent.shape, train_latent.shape"
   ]
  },
  {
   "cell_type": "code",
   "execution_count": null,
   "id": "ff594010",
   "metadata": {},
   "outputs": [],
   "source": [
    "merged_train_data = pd.np.column_stack([X_train[X_train.columns[:20]],pd.DataFrame(train_latent.reshape(-1, 320*8))])\n",
    "merged_test_data = pd.np.column_stack([X_test[X_test.columns[:20]],pd.DataFrame(test_latent.reshape(-1, 320*8))])"
   ]
  },
  {
   "cell_type": "code",
   "execution_count": null,
   "id": "035ca3ea",
   "metadata": {},
   "outputs": [],
   "source": [
    "merged_test_data.shape, len(y_test_), X_test.shape"
   ]
  },
  {
   "cell_type": "code",
   "execution_count": null,
   "id": "c016939e",
   "metadata": {},
   "outputs": [],
   "source": [
    "merged_train_data.shape, len(y_train_), X_train.shape"
   ]
  },
  {
   "cell_type": "code",
   "execution_count": null,
   "id": "36f6fb10",
   "metadata": {},
   "outputs": [],
   "source": [
    "model = XGBClassifier(use_label_encoder=False)\n",
    "model.fit(merged_train_data, y_train_, eval_metric='mlogloss')"
   ]
  },
  {
   "cell_type": "code",
   "execution_count": null,
   "id": "8727268c",
   "metadata": {},
   "outputs": [],
   "source": [
    "predicted = model.predict(merged_test_data)\n",
    "results_df = pd.DataFrame(zip(predicted, y_test), columns=['predicted', 'true'])\n",
    "report_pp = classification_report(y_test_, predicted, target_names=['person', 'bicycle', 'uav', 'vehicle'])\n",
    "print(report_pp)\n",
    "\n",
    "cm = confusion_matrix(y_test_, predicted, labels=[0,1,2,3])\n",
    "cm_display = ConfusionMatrixDisplay(confusion_matrix=cm, display_labels=['person', 'bicycle', 'uav', 'vehicle'])\n",
    "cm_display.plot()"
   ]
  },
  {
   "cell_type": "code",
   "execution_count": null,
   "id": "74536500",
   "metadata": {},
   "outputs": [],
   "source": [
    "explainer = shap.TreeExplainer(model)\n",
    "shap_values = explainer.shap_values(merged_test_data)\n",
    "shap.summary_plot(shap_values, merged_test_data, show=True)"
   ]
  },
  {
   "cell_type": "code",
   "execution_count": null,
   "id": "39189281",
   "metadata": {},
   "outputs": [],
   "source": []
  }
 ],
 "metadata": {
  "kernelspec": {
   "display_name": "Python 3 (ipykernel)",
   "language": "python",
   "name": "python3"
  },
  "language_info": {
   "codemirror_mode": {
    "name": "ipython",
    "version": 3
   },
   "file_extension": ".py",
   "mimetype": "text/x-python",
   "name": "python",
   "nbconvert_exporter": "python",
   "pygments_lexer": "ipython3",
   "version": "3.10.4"
  }
 },
 "nbformat": 4,
 "nbformat_minor": 5
}
